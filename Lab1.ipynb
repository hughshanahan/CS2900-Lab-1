{
 "cells": [
  {
   "cell_type": "markdown",
   "id": "cca0bcd1",
   "metadata": {},
   "source": [
    "<div id=\"header\">\n",
    "<h1 class=\"title\">CS2900 :- Topic 1 Lab</h1>\n",
    "<h2 class=\"author\">Hugh Shanahan and Tom Kuipers</h2>\n",
    "</div>"
   ]
  },
  {
   "cell_type": "markdown",
   "id": "7bd633fe",
   "metadata": {},
   "source": [
    "The learning outcomes of this session are:\n",
    "\n",
    "-   To have an introductory understanding of Jupyter notebooks.\n",
    "\n",
    "-   To have an introductory understanding of the library NumPy,\n",
    "    particularly with respect to vectors.\n",
    "\n",
    "-   To examine a case where vectors can be analysed that have a much\n",
    "    larger dimension than 3.\n",
    "\n",
    "Notebooks\n",
    "=========\n",
    "\n",
    "If you haven’t encountered this before this is an example of a notebook\n",
    "(specifically a Jupyter notebook). This brings together text and code\n",
    "into one place.\n",
    "\n",
    "The parts of this screen which have \"In \\[ \\]:\" to the left are referred\n",
    "to as cells. Cells are pieces of code that can be run. You can run the\n",
    "cells by clicking on the cell and pressing Control + Enter.\n",
    "\n",
    "If the cell generates output it will appear immediately after the cell\n",
    "in question when you do this.\n",
    "\n",
    "Do not just click through all the cells without thinking about what each\n",
    "cell is going to do.\n",
    "\n",
    "It’s important to note that the cells are in order and you should enter\n",
    "them in that order.\n",
    "\n",
    "For this section, you will be largely running things interactively but\n",
    "it’s best to set up an editor window, type in there and then run the\n",
    "script (The F5 key will very much be your friend here).\n",
    "\n",
    "If you click on Help and Keyboard Shortcuts you will get a list of\n",
    "shortcuts for doing particular operations (I find the one for creating a\n",
    "cell below the one you are using is very useful).\n",
    "\n",
    "## Saving your work\n",
    "\n",
    "To save your notebook, click on cloud icon with a *down arrow*. That will save your \n",
    "notebook to your browser storage so that you can reload the notebook at some other time\n",
    "by clicking on the cloud icon with an *up arrow*. However note that if you delete your \n",
    "browser history/cache, this will be lost!\n",
    "\n",
    "For permanent copy of you work, click the diskette icon to download the notebook file.\n",
    "When you relaunch Binder, you will be able to be able to click on the Upload button in the\n",
    "file browser to upload your `Lab1.ipynb` file.\n",
    "\n",
    "## Running in NoMachine\n",
    "\n",
    "You can run Jupyter directly from the department server:\n",
    "\n",
    "- First `git clone` the repository and `cd` into the repository folder.\n",
    "- Type, run `jupyter notebook` to launch the notebook in the browser.\n",
    "\n",
    "## Running on your own machine\n",
    "\n",
    "Finally, you can also run Jupyter from your own computer. Instructions on\n",
    "this can be found at\n",
    "<a href=\"https://jupyter.org/install\" class=\"uri\">https://jupyter.org/install</a>. If you do not have it you, \n",
    "<a href=\"https://docs.anaconda.com/anaconda/install/\" class=\"uri\"> Anaconda </a> is a handy tool to download Python and Jupyter in one bundle.\n",
    "\n",
    "You will need to clone the repository as above, and then launch your conda environment and install the packages in the `requirements.txt` folder. The main ones you will need are `numpy`, `matplotlib`, and `scipy`.\n",
    "\n",
    "Make sure these are installed before starting the notebook!"
   ]
  },
  {
   "cell_type": "markdown",
   "id": "d36d0d4f",
   "metadata": {},
   "source": [
    "NumPy Introduction\n",
    "==================\n",
    "\n",
    "We will make use of NumPy for this course to work with vectors and\n",
    "matrices. It’s worth keeping an eye on the QuickStart tutorial to NumPy\n",
    "(which we copy from a great deal here)\n",
    "\n",
    "<a href=\"https://docs.scipy.org/doc/numpy/user/\" class=\"uri\">https://docs.scipy.org/doc/numpy/user/</a>\n",
    "\n",
    "and the NumPy manual at\n",
    "\n",
    "<a href=\"https://docs.scipy.org/doc/numpy/index.html\" class=\"uri\">https://docs.scipy.org/doc/numpy/index.html</a>\n",
    ".\n",
    "\n",
    "The following will import this library into your session"
   ]
  },
  {
   "cell_type": "code",
   "execution_count": null,
   "id": "cbbfb651",
   "metadata": {},
   "outputs": [],
   "source": [
    "import numpy as np"
   ]
  },
  {
   "cell_type": "markdown",
   "id": "b8cc129a",
   "metadata": {},
   "source": [
    "# Numpy — Vectors\n",
    "\n",
    "You can define a vector as follows:"
   ]
  },
  {
   "cell_type": "code",
   "execution_count": null,
   "id": "b0ffc48f",
   "metadata": {},
   "outputs": [],
   "source": [
    "a = np.array([1, 2, 3])"
   ]
  },
  {
   "cell_type": "markdown",
   "id": "8bfcbe2f",
   "metadata": {},
   "source": [
    "(Note the ordering of round and square brackets).\n",
    "\n",
    "Inspect the contents of `a` by executing"
   ]
  },
  {
   "cell_type": "code",
   "execution_count": null,
   "id": "d974c131",
   "metadata": {},
   "outputs": [],
   "source": [
    "a"
   ]
  },
  {
   "cell_type": "markdown",
   "id": "32cc4a74",
   "metadata": {},
   "source": [
    "You can access individual components directly as you would like any\n",
    "other array"
   ]
  },
  {
   "cell_type": "code",
   "execution_count": null,
   "id": "50318736",
   "metadata": {},
   "outputs": [],
   "source": [
    "a[0]"
   ]
  },
  {
   "cell_type": "markdown",
   "id": "7a518094",
   "metadata": {},
   "source": [
    "## CHECKPOINT 1\n",
    "\n",
    "- **Define a variable `a_2` and set it equal to the second entry in\n",
    "`a`.**"
   ]
  },
  {
   "cell_type": "code",
   "execution_count": null,
   "id": "f08794b8",
   "metadata": {},
   "outputs": [],
   "source": [
    "# Your code here...\n",
    "\n"
   ]
  },
  {
   "cell_type": "markdown",
   "id": "83e638b1",
   "metadata": {},
   "source": [
    "The vector `a` has an associated set of methods including a nicer print\n",
    "statement."
   ]
  },
  {
   "cell_type": "code",
   "execution_count": null,
   "id": "9c621097",
   "metadata": {},
   "outputs": [],
   "source": [
    "print(a)"
   ]
  },
  {
   "cell_type": "markdown",
   "id": "bae0c39e",
   "metadata": {},
   "source": [
    "The entries in `a` can be integers, floats and so on. Since Python is a\n",
    "dynamically typed language, it tries to figure that out on the fly. One\n",
    "can check the type as follows"
   ]
  },
  {
   "cell_type": "code",
   "execution_count": null,
   "id": "8fe08a3a",
   "metadata": {},
   "outputs": [],
   "source": [
    "a.dtype.name"
   ]
  },
  {
   "cell_type": "markdown",
   "id": "e0d3d382",
   "metadata": {},
   "source": [
    "*Question* - what type did you get?\n",
    "\n",
    "## CHECKPOINT 2\n",
    "\n",
    "- **Create another vector `b` which is equal to: $$[4, 5, 6]$$ where the entries are of type float.**\n",
    "\n",
    "**Hint:** Refer to the Numpy documentation on how to specify the *dtype* of an array."
   ]
  },
  {
   "cell_type": "code",
   "execution_count": null,
   "id": "1f1fbba4",
   "metadata": {},
   "outputs": [],
   "source": [
    "# Your code here...\n",
    "\n"
   ]
  },
  {
   "cell_type": "markdown",
   "id": "42a26ee2",
   "metadata": {},
   "source": [
    "There is a transpose operation, but for vectors defined this way it\n",
    "doesn’t really do anything. We’ll get back to this in the second lab."
   ]
  },
  {
   "cell_type": "code",
   "execution_count": null,
   "id": "b13b6cc1",
   "metadata": {},
   "outputs": [],
   "source": [
    "a.T"
   ]
  },
  {
   "cell_type": "markdown",
   "id": "a384d7d5",
   "metadata": {},
   "source": [
    "NumPy — Operations\n",
    "==================\n",
    "\n",
    "We define the following set of new vectors."
   ]
  },
  {
   "cell_type": "code",
   "execution_count": null,
   "id": "f8ec8ee7",
   "metadata": {},
   "outputs": [],
   "source": [
    "c = np.array([1.,2.])"
   ]
  },
  {
   "cell_type": "code",
   "execution_count": null,
   "id": "b86f7886",
   "metadata": {},
   "outputs": [],
   "source": [
    "d = np.array([2.,1.])"
   ]
  },
  {
   "cell_type": "markdown",
   "id": "d16a3541",
   "metadata": {},
   "source": [
    "We can do many of the simple operations such as multiplication by a\n",
    "scalar, adding and subtracting vectors. **Ask yourself what the output\n",
    "should be before pressing enter.**\n",
    "\n",
    "Type"
   ]
  },
  {
   "cell_type": "code",
   "execution_count": null,
   "id": "1e0b2920",
   "metadata": {},
   "outputs": [],
   "source": [
    "2. * c"
   ]
  },
  {
   "cell_type": "code",
   "execution_count": null,
   "id": "e7b387dd",
   "metadata": {},
   "outputs": [],
   "source": [
    "-.123 * d"
   ]
  },
  {
   "cell_type": "code",
   "execution_count": null,
   "id": "7b96b7a2",
   "metadata": {},
   "outputs": [],
   "source": [
    "c + d"
   ]
  },
  {
   "cell_type": "code",
   "execution_count": null,
   "id": "c74675d6",
   "metadata": {},
   "outputs": [],
   "source": [
    "c - d"
   ]
  },
  {
   "cell_type": "markdown",
   "id": "c9559ae6",
   "metadata": {},
   "source": [
    "As these vectors are objects, one needs to be careful when copying them\n",
    "as using $=$ only passes the reference.\n",
    "\n",
    "Type"
   ]
  },
  {
   "cell_type": "code",
   "execution_count": null,
   "id": "e2449013",
   "metadata": {},
   "outputs": [],
   "source": [
    "u = c"
   ]
  },
  {
   "cell_type": "code",
   "execution_count": null,
   "id": "9124b646",
   "metadata": {},
   "outputs": [],
   "source": [
    "print(u)"
   ]
  },
  {
   "cell_type": "code",
   "execution_count": null,
   "id": "754c7fe0",
   "metadata": {},
   "outputs": [],
   "source": [
    "c *= 3"
   ]
  },
  {
   "cell_type": "code",
   "execution_count": null,
   "id": "76664238",
   "metadata": {},
   "outputs": [],
   "source": [
    "print(u)"
   ]
  },
  {
   "cell_type": "markdown",
   "id": "7969a074",
   "metadata": {},
   "source": [
    "If you use the `copy` method then the values of the vector are copied\n",
    "across.\n",
    "\n",
    "Type"
   ]
  },
  {
   "cell_type": "code",
   "execution_count": null,
   "id": "4c73d49b",
   "metadata": {},
   "outputs": [],
   "source": [
    "u = c.copy()"
   ]
  },
  {
   "cell_type": "code",
   "execution_count": null,
   "id": "3a48ee8d",
   "metadata": {},
   "outputs": [],
   "source": [
    "print(u)"
   ]
  },
  {
   "cell_type": "code",
   "execution_count": null,
   "id": "4adbd466",
   "metadata": {},
   "outputs": [],
   "source": [
    "c *= 3"
   ]
  },
  {
   "cell_type": "markdown",
   "id": "d1c0fc6e",
   "metadata": {},
   "source": [
    "**What will `u` look like now?**"
   ]
  },
  {
   "cell_type": "code",
   "execution_count": null,
   "id": "5fae8594",
   "metadata": {},
   "outputs": [],
   "source": [
    "print(u)"
   ]
  },
  {
   "cell_type": "markdown",
   "id": "01599135",
   "metadata": {},
   "source": [
    "One can compute the dot product between any two vectors. Type"
   ]
  },
  {
   "cell_type": "code",
   "execution_count": null,
   "id": "88bbf6fd",
   "metadata": {},
   "outputs": [],
   "source": [
    "c = np.array([1.,2.])"
   ]
  },
  {
   "cell_type": "code",
   "execution_count": null,
   "id": "22929d04",
   "metadata": {},
   "outputs": [],
   "source": [
    "c.dot(d)"
   ]
  },
  {
   "cell_type": "markdown",
   "id": "bbefb476",
   "metadata": {},
   "source": [
    "\n",
    "## CHECKPOINT 3\n",
    "\n",
    "- **Create another vector `co` that is orthogonal to `c`.**\n",
    "- **Create a floating point number `p` that demonstrates that `co` is orthogonal to `c`. (Hint: `p` should be 0.0).**\n"
   ]
  },
  {
   "cell_type": "code",
   "execution_count": null,
   "id": "9d2c2240",
   "metadata": {},
   "outputs": [],
   "source": [
    "# Your code here...\n",
    "\n"
   ]
  },
  {
   "cell_type": "markdown",
   "id": "94f8a512",
   "metadata": {},
   "source": [
    "There isn’t a length function in NumPy but you can easily construct one.\n",
    "\n",
    "Type"
   ]
  },
  {
   "cell_type": "code",
   "execution_count": null,
   "id": "0028074b",
   "metadata": {},
   "outputs": [],
   "source": [
    "import math"
   ]
  },
  {
   "cell_type": "code",
   "execution_count": null,
   "id": "1e15adc9",
   "metadata": {},
   "outputs": [],
   "source": [
    "math.sqrt(d.dot(d))"
   ]
  },
  {
   "cell_type": "markdown",
   "id": "073b016d",
   "metadata": {},
   "source": [
    "## CHECKPOINT 4\n",
    "\n",
    "- **Create a function `dist` that accepts a single argument `v` which is a NumPy vector. `dist` will return the length of `v`.**\n"
   ]
  },
  {
   "cell_type": "code",
   "execution_count": null,
   "id": "b2cee03b",
   "metadata": {},
   "outputs": [],
   "source": [
    "# Your code here...\n",
    "\n"
   ]
  },
  {
   "cell_type": "markdown",
   "id": "3997d016",
   "metadata": {},
   "source": [
    "One can determine a unit vector `du` for a vector `d`.\n",
    "\n",
    "Type"
   ]
  },
  {
   "cell_type": "code",
   "execution_count": null,
   "id": "af7721bc",
   "metadata": {},
   "outputs": [],
   "source": [
    "du=d/math.sqrt(d.dot(d))"
   ]
  },
  {
   "cell_type": "markdown",
   "id": "75485a26",
   "metadata": {},
   "source": [
    "## CHECKPOINT 5\n",
    "\n",
    "- **Create a function `unitVec` that accepts a single argument `v` which is a NumPy vector. The function should behave like so:**\n",
    "  - **Firstly, if the vector is the *Null vector*, it should return the string: `This is a Null vector`.**\n",
    "  - **For any other vector, it should return the unit vector that is parallel with `v`.**\n",
    "  \n",
    "**Hint**: You can use the function `dist` you wrote before."
   ]
  },
  {
   "cell_type": "code",
   "execution_count": null,
   "id": "8103c666",
   "metadata": {},
   "outputs": [],
   "source": [
    "# Your code here...\n",
    "\n"
   ]
  },
  {
   "cell_type": "markdown",
   "id": "76826dee",
   "metadata": {},
   "source": [
    "Higher dimensional example - character frequencies in different languages.\n",
    "==========================================================================\n",
    "\n",
    "If you are given a piece of text, then it is possible to compute the\n",
    "frequency of occurence of each of the lower case letters in that text.\n",
    "It turns out that the frequency of these letters is relatively fixed\n",
    "from language to language (although this should not seen as an\n",
    "absolutely fixed set of frequencies as every text can represent a\n",
    "different style). It turns out that these frequencies are surprisingly\n",
    "constant between different texts taken from the same language. We can\n",
    "even use it to decrypt texts.\n",
    "\n",
    "Put more mathematically for each text $\\mathcal T$ we can compute the\n",
    "frequency of each letter $f_a^{\\mathcal T}$, $f_b^{\\mathcal T}$ ,\n",
    "$\\dots$ where $f_a^{\\mathcal T}$ is the frequency of lower case “a”’s in\n",
    "$\\mathcal T$ and so on. For the English alphabet there are 26 letters,\n",
    "so we can construct a vector $\\underline{f}^{\\mathcal T}$ of those\n",
    "frequencies. So, $\\underline{f}^{\\mathcal T}$ is a vector *with 26\n",
    "entries*.\n",
    "\n",
    "We can then compare how similar two texts $A$ and $B$ are by comparing\n",
    "their frequencies. Let’s suppose that their corresponding frequency\n",
    "vectors are $\\underline{f}^A$ and $\\underline{f}^B$. We can easily\n",
    "compute cosine of the angle between these two vectors by computing\n",
    "$$\\cos \\theta \\;\\; = \\;\\; \\frac{{\\underline{f^A}^\\intercal} \\cdot {\\underline{f^B}}}{|\\underline{f^A}||\\underline{f^B}|} \\;\\; .$$\n",
    "\n",
    "Remember -\n",
    "\n",
    "1.  if $\\cos \\theta = 1$ then $\\underline{f}^A$ and $\\underline{f}^B$\n",
    "    are parallel to each other, which indicates their frequencies are\n",
    "    very similar.\n",
    "\n",
    "2.  It doesn’t matter about the number of dimensions, the above\n",
    "    relationship still holds (not just for two or three dimensions).\n",
    "\n",
    "We can test this in Python. To do this you will write Python code to\n",
    "compute the frequency of letters for a text and then to compute the dot\n",
    "product between different frequency vectors. Without looking at the\n",
    "files one can check if texts are from the same language or not.\n",
    "\n",
    "In the cell below are two functions that will read in a text and return\n",
    "a string and another function which will return a vector with the\n",
    "*incidence* of lower case letters (i.e. how many times the letter “a”\n",
    "occurs and so on) in a string."
   ]
  },
  {
   "cell_type": "code",
   "execution_count": null,
   "id": "d1097f7e",
   "metadata": {},
   "outputs": [],
   "source": [
    "import re\n",
    "\n",
    "def getString(fn):\n",
    "    f = open(fn,'r')\n",
    "    myString = f.read()\n",
    "    return myString.lower()\n",
    "\n",
    "def getIncidence(string):\n",
    "    letters = \"abcdefghijklmnopqrstuvwxyz\"\n",
    "    Nc = len(letters)\n",
    "    n = np.zeros(Nc,dtype=np.float64)\n",
    "    i = 0\n",
    "    for c in letters:\n",
    "        x = re.findall(c,string)\n",
    "        n[i] = len(x) * 1.0\n",
    "        i += 1\n",
    "    return n"
   ]
  },
  {
   "cell_type": "markdown",
   "id": "152dc1bb",
   "metadata": {},
   "source": [
    "## CHECKPOINT 6\n",
    "\n",
    "- **Create a function `calcFreq` that accepts a single argument `fileName` which is the file name of the text file name. `calcFreq` returns the frequency vector for `fileName`. \n",
    "If\n",
    "$\\underline{n}$ is the vector of incidences then\n",
    "$$f_i \\;\\; = \\;\\; \\frac{n_i}{\\sum_j n_j} \\;\\; .$$ If you look in the NumPy\n",
    "documentation you will a function to compute the denominator of this.**\n",
    "\n",
    "*This is not the same as computing the unit vector - prove this to\n",
    "yourself*"
   ]
  },
  {
   "cell_type": "code",
   "execution_count": null,
   "id": "d192ff84",
   "metadata": {},
   "outputs": [],
   "source": [
    "# Your code here...\n",
    "\n"
   ]
  },
  {
   "cell_type": "markdown",
   "id": "cc9cb4ba",
   "metadata": {},
   "source": [
    "## CHECKPOINT 7\n",
    "\n",
    "- **Write a function `calcCosFreqVec` that accepts two arguments `f1` and `f2` which are two text frequency vectors. `calcCosFreqVec` returns the cosine of the angle between `f1` and `f2`. You will need the `math` library.**"
   ]
  },
  {
   "cell_type": "code",
   "execution_count": null,
   "id": "c52bb613",
   "metadata": {},
   "outputs": [],
   "source": [
    "# Your code here...\n",
    "\n"
   ]
  },
  {
   "cell_type": "markdown",
   "id": "bd8425e9",
   "metadata": {},
   "source": [
    "## CHECKPOINT 8\n",
    "- **In the Jupyter folder there are three files, `Dutch.txt`, `English.txt` and `unknown.txt`. The first two files are the same text in Dutch and English respectively. Compute the floating point numbers `cDE`, `cDu` and `cEu` that are respectively the cosine of the angle between Dutch and English texts, the Dutch and unknown texts and the English and unknown texts. (From these values try and determine the langauge of the unknown text.)**"
   ]
  },
  {
   "cell_type": "code",
   "execution_count": null,
   "id": "a44c3762",
   "metadata": {},
   "outputs": [],
   "source": [
    "# Your code here...\n",
    "\n"
   ]
  },
  {
   "cell_type": "markdown",
   "id": "94a9e010",
   "metadata": {},
   "source": [
    "Extension work\n",
    "==============\n",
    "\n",
    "Rotation encryption is one of the oldest methods for encrypting\n",
    "texts.[1] The idea is relatively simple. Each letter in a text is\n",
    "exchanged with a letter that is a specific number down from it in the\n",
    "alphabetical sequence. So with a encryption rotation with an offset of\n",
    "one would exchange\n",
    "\n",
    "`a` $\\rightarrow$ `b`,\n",
    "\n",
    "`b` $\\rightarrow$ `c`,\n",
    "\n",
    "$\\dots$\n",
    "\n",
    "`z` $\\rightarrow$ `a`.\n",
    "\n",
    "The cipher rotation with an offset of 13 (or ROT-13) would be `a`\n",
    "$\\rightarrow$ `n` and so on.\n",
    "\n",
    "If ones knows the offset, then one can decrypt the text by either\n",
    "performing the reverse transformation on the encrypted text or\n",
    "equivalently apply the transformation with a new offset where the sum of\n",
    "the offsets is 26 (the number of letters in the alphabet). So in the\n",
    "first case if a text has an encryption rotation with a offset of 1\n",
    "applied to it and is then followed by an encryption rotation of 25 we\n",
    "end up with the same text. Two applications of ROT-13 likewise return\n",
    "you to the same text.\n",
    "\n",
    "This encryption method can be very easily broken using the letter\n",
    "frequency method that was discussed in the last set of lab materials. In\n",
    "particular, *the frequencies of the letters will remain the same,\n",
    "regardless of how they are transformed*. Furthermore if you have a\n",
    "reference text, which you know is from the same language as the\n",
    "encrypted text, then you can compare the frequencies to determine what\n",
    "was the offset was.\n",
    "\n",
    "If one applies the encryption rotation algorithm with right offset on\n",
    "the encrypted text then the cosine of the angle between the two\n",
    "frequency vectors should be close to 1.\n",
    "\n",
    "The following function takes a string and carries out a rotation of a\n",
    "string.\n",
    "\n",
    "[1] The fact that it’s sometimes called the “Caesar Cipher” gives you an\n",
    "idea of how old it is!"
   ]
  },
  {
   "cell_type": "code",
   "execution_count": null,
   "id": "1ec4e6ca",
   "metadata": {},
   "outputs": [],
   "source": [
    "import sys\n",
    "\n",
    "def rot(s,shift):\n",
    "    result = \"\"\n",
    "    numLetters = 26\n",
    "    if ( shift < -(numLetters-1) or shift > (numLetters-1) ):\n",
    "        print(\"Error in rot function - shift must be > -25 and < 25\")\n",
    "        sys.exit(-1)\n",
    "    for v in s:\n",
    "        o, c, upper = v, v.lower(), v.isupper()\n",
    "        if c >= 'a' and c <= 'z':\n",
    "            deltaO = ord(c) - ord('a')\n",
    "            deltaN = (deltaO + shift) % numLetters\n",
    "            c = chr(ord('a') + deltaN)\n",
    "        c = c.upper() if upper else c\n",
    "        result += c\n",
    "\n",
    "    return result"
   ]
  },
  {
   "cell_type": "markdown",
   "id": "2b7a0cc6",
   "metadata": {},
   "source": [
    "**CHECKPOINT In the Jupyter folder there is a piece of English text\n",
    "encrypted using this approach called Englishencrypt.txt Using the above\n",
    "function try and decrypt the text just by comparing the cosine of the\n",
    "frequency vectors between the rotated text and the reference English.txt\n",
    "file.**"
   ]
  },
  {
   "cell_type": "code",
   "execution_count": null,
   "id": "cd1f32f5",
   "metadata": {},
   "outputs": [],
   "source": [
    "# Your code here...\n",
    "\n"
   ]
  }
 ],
 "metadata": {
  "kernelspec": {
   "display_name": "Python 3 (ipykernel)",
   "language": "python",
   "name": "python3"
  },
  "language_info": {
   "codemirror_mode": {
    "name": "ipython",
    "version": 3
   },
   "file_extension": ".py",
   "mimetype": "text/x-python",
   "name": "python",
   "nbconvert_exporter": "python",
   "pygments_lexer": "ipython3",
   "version": "3.12.7"
  }
 },
 "nbformat": 4,
 "nbformat_minor": 5
}
